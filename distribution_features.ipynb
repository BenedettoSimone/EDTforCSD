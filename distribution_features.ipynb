{
 "cells": [
  {
   "cell_type": "markdown",
   "metadata": {
    "collapsed": true,
    "pycharm": {
     "name": "#%% md\n"
    }
   },
   "source": [
    "# Distribution of each feature, considering smelly and non-smelly classes separately"
   ]
  },
  {
   "cell_type": "code",
   "execution_count": 4,
   "outputs": [
    {
     "name": "stdout",
     "output_type": "stream",
     "text": [
      "oversampling_LazyClass.csv\n",
      "oversampling_SpaghettiCode.csv\n",
      "oversampling_RefusedBequest.csv\n",
      "oversampling_LargeClass.csv\n",
      "oversampling_ComplexClass.csv\n"
     ]
    }
   ],
   "source": [
    "import shutil\n",
    "import os\n",
    "import pandas as pd\n",
    "import seaborn as sns\n",
    "import matplotlib.pyplot as plt\n",
    "\n",
    "path = 'images_distribution_features'\n",
    "\n",
    "# Check whether the specified path exists or not\n",
    "isExist = os.path.exists(path)\n",
    "if isExist:\n",
    "    shutil.rmtree(path)\n",
    "\n",
    "os.mkdir(path)\n",
    "\n",
    "os.chdir('datasets/oversampling')\n",
    "\n",
    "for i in os.listdir():\n",
    "\n",
    "    dataset = pd.read_csv(i)\n",
    "\n",
    "    y= dataset.iloc[:, -1:]\n",
    "    class_name = y.columns.values.tolist()\n",
    "\n",
    "    #separate smell and not smell\n",
    "    smell_df = dataset[dataset[class_name[0]] == 1]\n",
    "    not_smell_df = dataset[dataset[class_name[0]] == 0]\n",
    "\n",
    "\n",
    "    #remove target column\n",
    "    smell_df = smell_df.iloc[:, :-1]\n",
    "    not_smell_df = not_smell_df.iloc[:, :-1]\n",
    "\n",
    "\n",
    "    # melt dataframe to convert the data long form\n",
    "    smell_df_long = smell_df.melt(var_name='Feature',value_name='Value')\n",
    "    not_smell_df_long = not_smell_df.melt(var_name='Feature',value_name='Value')\n",
    "\n",
    "\n",
    "\n",
    "    # horizontal boxplot features of smell samples\n",
    "    sns.set(rc={'figure.figsize':(20.7,11.27)})\n",
    "    sns_plot = sns.boxplot(y = \"Feature\",\n",
    "                x = \"Value\",\n",
    "               data = smell_df_long)\n",
    "    plt.tight_layout()\n",
    "    fig = sns_plot.get_figure()\n",
    "    plt.close(fig)\n",
    "    fig.savefig(\"../../images_distribution_features/distribution_features_\"+class_name[0]+\".png\")\n",
    "\n",
    "\n",
    "    # horizontal boxplot features of not smell samples\n",
    "    sns.set(rc={'figure.figsize':(20.7,11.27)})\n",
    "    sns_plot = sns.boxplot(y = \"Feature\",\n",
    "                x = \"Value\",\n",
    "               data = not_smell_df_long)\n",
    "    plt.tight_layout()\n",
    "    fig = sns_plot.get_figure()\n",
    "    plt.close(fig)\n",
    "    fig.savefig(\"../../images_distribution_features/distribution_features_NotSmell.png\")\n",
    "\n",
    "os.chdir('../..')"
   ],
   "metadata": {
    "collapsed": false,
    "pycharm": {
     "name": "#%%\n"
    }
   }
  },
  {
   "cell_type": "code",
   "execution_count": null,
   "outputs": [],
   "source": [],
   "metadata": {
    "collapsed": false,
    "pycharm": {
     "name": "#%%\n"
    }
   }
  }
 ],
 "metadata": {
  "kernelspec": {
   "display_name": "Python 3",
   "language": "python",
   "name": "python3"
  },
  "language_info": {
   "codemirror_mode": {
    "name": "ipython",
    "version": 2
   },
   "file_extension": ".py",
   "mimetype": "text/x-python",
   "name": "python",
   "nbconvert_exporter": "python",
   "pygments_lexer": "ipython2",
   "version": "2.7.6"
  }
 },
 "nbformat": 4,
 "nbformat_minor": 0
}