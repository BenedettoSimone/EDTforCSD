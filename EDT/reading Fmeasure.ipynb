{
 "cells": [
  {
   "cell_type": "code",
   "execution_count": null,
   "metadata": {
    "collapsed": true
   },
   "outputs": [],
   "source": []
  },
  {
   "cell_type": "code",
   "execution_count": 2,
   "outputs": [
    {
     "name": "stdout",
     "output_type": "stream",
     "text": [
      "0.99952623\n",
      "0.59503661\n",
      "0.84270719\n",
      "0.23391533\n",
      "0.98138188\n",
      "0.73490364\n",
      "0\n",
      "0.2658213\n",
      "0.99959394\n",
      "0.96379964\n",
      "==============================================\n",
      "ComplexClass\n",
      "F-NOTSMELL-MEAN:  0.661668576\n",
      "F-SMELL-MEAN:  0.007339723\n",
      "================================\n",
      "0.00405515\n",
      "0.99932304\n",
      "0.99633302\n",
      "0.99844163\n",
      "0.99687458\n",
      "0.93046813\n",
      "0.03748505\n",
      "0\n",
      "0.99939078\n",
      "0.95641116\n",
      "==============================================\n",
      "LargeClass\n",
      "F-NOTSMELL-MEAN:  0.691878254\n",
      "F-SMELL-MEAN:  0.033999221\n",
      "================================\n",
      "0.99986468\n",
      "0.01371152\n",
      "0.01930036\n",
      "0.9992553\n",
      "0.00486092\n",
      "0.59190091\n",
      "0\n",
      "0.00647598\n",
      "0.80716765\n",
      "0.99023157\n",
      "==============================================\n",
      "LazyClass\n",
      "F-NOTSMELL-MEAN:  0.443276889\n",
      "F-SMELL-MEAN:  0.000640709\n",
      "================================\n",
      "0.01185984\n",
      "0.05662365\n",
      "0.85058008\n",
      "0.00998246\n",
      "0.99850949\n",
      "0.00216685\n",
      "0.99667413\n",
      "0.35672906\n",
      "0.99891643\n",
      "0\n",
      "==============================================\n",
      "RefusedBequest\n",
      "F-NOTSMELL-MEAN:  0.428204199\n",
      "F-SMELL-MEAN:  0.0035686520000000003\n",
      "================================\n",
      "0.46971904\n",
      "0.97075616\n",
      "0.98717685\n",
      "0.97204451\n",
      "0.99687839\n",
      "0.34380985\n",
      "0.0010877\n",
      "0.99036819\n",
      "0.7437032\n",
      "0.99728666\n",
      "==============================================\n",
      "SpaghettiCode\n",
      "F-NOTSMELL-MEAN:  0.747283055\n",
      "F-SMELL-MEAN:  0.011924197000000001\n",
      "================================\n"
     ]
    }
   ],
   "source": [
    "\n",
    "import os\n",
    "from statistics import mean\n",
    "\n",
    "os.chdir(\"results\")\n",
    "for dir in os.listdir():\n",
    "    f_smell=[]\n",
    "    f_notsmell= []\n",
    "    os.chdir(dir)\n",
    "    for file in os.listdir():\n",
    "\n",
    "        file = open(file,\"r\")\n",
    "        lines = file.readlines()\n",
    "        file.close()\n",
    "\n",
    "        for line in lines:\n",
    "            if \"F-measure\" in line:\n",
    "                line_to_save=line\n",
    "\n",
    "        splitted = line_to_save.split()\n",
    "        firstvalue=splitted[1][1:]\n",
    "\n",
    "        if firstvalue ==\"0.\":\n",
    "            firstvalue=firstvalue[:-1]\n",
    "        print(firstvalue)\n",
    "\n",
    "        splitted[2]\n",
    "        secondvalue=splitted[2]\n",
    "\n",
    "        if \"]\" in secondvalue:\n",
    "            secondvalue=secondvalue[:-1]\n",
    "\n",
    "        if secondvalue ==\"0.\":\n",
    "            secondvalue=secondvalue[:-1]\n",
    "\n",
    "        f_notsmell.append(float(firstvalue))\n",
    "        f_smell.append(float(secondvalue))\n",
    "    print(\"=================================\")\n",
    "    print(dir)\n",
    "    print(\"F-NOTSMELL-MEAN: \",mean(f_notsmell))\n",
    "    print(\"F-SMELL-MEAN: \",mean(f_smell))\n",
    "    print(\"================================\")\n",
    "    os.chdir(\"..\")\n",
    "os.chdir(\"..\")\n",
    "\n",
    "\n"
   ],
   "metadata": {
    "collapsed": false,
    "pycharm": {
     "name": "#%%\n"
    }
   }
  },
  {
   "cell_type": "code",
   "execution_count": null,
   "outputs": [],
   "source": [],
   "metadata": {
    "collapsed": false,
    "pycharm": {
     "name": "#%%\n"
    }
   }
  },
  {
   "cell_type": "code",
   "execution_count": null,
   "outputs": [],
   "source": [],
   "metadata": {
    "collapsed": false,
    "pycharm": {
     "name": "#%%\n"
    }
   }
  }
 ],
 "metadata": {
  "kernelspec": {
   "display_name": "Python 3",
   "language": "python",
   "name": "python3"
  },
  "language_info": {
   "codemirror_mode": {
    "name": "ipython",
    "version": 2
   },
   "file_extension": ".py",
   "mimetype": "text/x-python",
   "name": "python",
   "nbconvert_exporter": "python",
   "pygments_lexer": "ipython2",
   "version": "2.7.6"
  }
 },
 "nbformat": 4,
 "nbformat_minor": 0
}