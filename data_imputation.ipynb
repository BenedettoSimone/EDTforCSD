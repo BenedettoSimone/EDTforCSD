{
 "cells": [
  {
   "cell_type": "markdown",
   "metadata": {
    "collapsed": true,
    "pycharm": {
     "name": "#%% md\n"
    }
   },
   "source": [
    "# Data imputation"
   ]
  },
  {
   "cell_type": "markdown",
   "source": [
    "### Find type of NaN"
   ],
   "metadata": {
    "collapsed": false,
    "pycharm": {
     "name": "#%% md\n"
    }
   }
  },
  {
   "cell_type": "code",
   "execution_count": 1,
   "outputs": [
    {
     "data": {
      "text/plain": "                                           ComponentName  \\\n156    org.apache.tools.ant.taskdefs.optional.rjunit....   \n182                                               .Task1   \n184                                                   .A   \n185                                                   .B   \n186                                                   .C   \n...                                                  ...   \n73846                    org.apache.xml.serialize.Method   \n73857                           org.w3c.dom.CDATASection   \n73859                                org.w3c.dom.Comment   \n73863                       org.w3c.dom.DocumentFragment   \n73867                        org.w3c.dom.EntityReference   \n\n                 nameProject  M_CBO  M_CYCLO  M_DIT  M_ELOC  M_FanIn  \\\n156            ant-rel-1.6.0      4        0      1      55        8   \n182            ant-rel-1.6.0      1        0      2       2        2   \n184            ant-rel-1.6.0      0        0      2       3    14288   \n185            ant-rel-1.6.0      0        0      2       2     9711   \n186            ant-rel-1.6.0      0        0      1       2    15494   \n...                      ...    ...      ...    ...     ...      ...   \n73846  xerces-Xerces-J_1_4_2      0        0      1      27      104   \n73857  xerces-Xerces-J_1_4_2      0        0      1       5       68   \n73859  xerces-Xerces-J_1_4_2      0        0      1       5      143   \n73863  xerces-Xerces-J_1_4_2      0        0      1       5      125   \n73867  xerces-Xerces-J_1_4_2      0        0      1       5      156   \n\n       M_FanIn_1  M_LCOM  M_LOC  ...  M_WLOCNAMM  M_WMC  M_WMCNAMM  \\\n156            0       0     55  ...         NaN      0          0   \n182            0       0      2  ...         NaN      0          0   \n184            0       0      3  ...         NaN      0          0   \n185            0       0      2  ...         NaN      0          0   \n186            0       0      2  ...         NaN      0          0   \n...          ...     ...    ...  ...         ...    ...        ...   \n73846          0       0     27  ...         NaN      0          0   \n73857          0       0      5  ...         NaN      0          0   \n73859          0       0      5  ...         NaN      0          0   \n73863          0       0      5  ...         NaN      0          0   \n73867          0       0      5  ...         NaN      0          0   \n\n       M_TextualCohesion  M_TextualEntropy  ComplexClass  LargeClass  \\\n156                  1.0          0.813623             0           0   \n182                  1.0          1.000000             0           0   \n184                  1.0          0.864974             0           0   \n185                  1.0          1.000000             0           0   \n186                  1.0          0.000000             0           0   \n...                  ...               ...           ...         ...   \n73846                1.0          0.927032             0           0   \n73857                1.0          0.893543             0           0   \n73859                1.0          0.949611             0           0   \n73863                1.0          0.851116             0           0   \n73867                1.0          0.895770             0           0   \n\n       LazyClass  RefusedBequest  SpaghettiCode  \n156            0               0              0  \n182            0               0              0  \n184            0               0              0  \n185            0               0              0  \n186            0               0              0  \n...          ...             ...            ...  \n73846          0               0              0  \n73857          0               0              0  \n73859          0               0              0  \n73863          0               0              0  \n73867          0               0              0  \n\n[1360 rows x 28 columns]",
      "text/html": "<div>\n<style scoped>\n    .dataframe tbody tr th:only-of-type {\n        vertical-align: middle;\n    }\n\n    .dataframe tbody tr th {\n        vertical-align: top;\n    }\n\n    .dataframe thead th {\n        text-align: right;\n    }\n</style>\n<table border=\"1\" class=\"dataframe\">\n  <thead>\n    <tr style=\"text-align: right;\">\n      <th></th>\n      <th>ComponentName</th>\n      <th>nameProject</th>\n      <th>M_CBO</th>\n      <th>M_CYCLO</th>\n      <th>M_DIT</th>\n      <th>M_ELOC</th>\n      <th>M_FanIn</th>\n      <th>M_FanIn_1</th>\n      <th>M_LCOM</th>\n      <th>M_LOC</th>\n      <th>...</th>\n      <th>M_WLOCNAMM</th>\n      <th>M_WMC</th>\n      <th>M_WMCNAMM</th>\n      <th>M_TextualCohesion</th>\n      <th>M_TextualEntropy</th>\n      <th>ComplexClass</th>\n      <th>LargeClass</th>\n      <th>LazyClass</th>\n      <th>RefusedBequest</th>\n      <th>SpaghettiCode</th>\n    </tr>\n  </thead>\n  <tbody>\n    <tr>\n      <th>156</th>\n      <td>org.apache.tools.ant.taskdefs.optional.rjunit....</td>\n      <td>ant-rel-1.6.0</td>\n      <td>4</td>\n      <td>0</td>\n      <td>1</td>\n      <td>55</td>\n      <td>8</td>\n      <td>0</td>\n      <td>0</td>\n      <td>55</td>\n      <td>...</td>\n      <td>NaN</td>\n      <td>0</td>\n      <td>0</td>\n      <td>1.0</td>\n      <td>0.813623</td>\n      <td>0</td>\n      <td>0</td>\n      <td>0</td>\n      <td>0</td>\n      <td>0</td>\n    </tr>\n    <tr>\n      <th>182</th>\n      <td>.Task1</td>\n      <td>ant-rel-1.6.0</td>\n      <td>1</td>\n      <td>0</td>\n      <td>2</td>\n      <td>2</td>\n      <td>2</td>\n      <td>0</td>\n      <td>0</td>\n      <td>2</td>\n      <td>...</td>\n      <td>NaN</td>\n      <td>0</td>\n      <td>0</td>\n      <td>1.0</td>\n      <td>1.000000</td>\n      <td>0</td>\n      <td>0</td>\n      <td>0</td>\n      <td>0</td>\n      <td>0</td>\n    </tr>\n    <tr>\n      <th>184</th>\n      <td>.A</td>\n      <td>ant-rel-1.6.0</td>\n      <td>0</td>\n      <td>0</td>\n      <td>2</td>\n      <td>3</td>\n      <td>14288</td>\n      <td>0</td>\n      <td>0</td>\n      <td>3</td>\n      <td>...</td>\n      <td>NaN</td>\n      <td>0</td>\n      <td>0</td>\n      <td>1.0</td>\n      <td>0.864974</td>\n      <td>0</td>\n      <td>0</td>\n      <td>0</td>\n      <td>0</td>\n      <td>0</td>\n    </tr>\n    <tr>\n      <th>185</th>\n      <td>.B</td>\n      <td>ant-rel-1.6.0</td>\n      <td>0</td>\n      <td>0</td>\n      <td>2</td>\n      <td>2</td>\n      <td>9711</td>\n      <td>0</td>\n      <td>0</td>\n      <td>2</td>\n      <td>...</td>\n      <td>NaN</td>\n      <td>0</td>\n      <td>0</td>\n      <td>1.0</td>\n      <td>1.000000</td>\n      <td>0</td>\n      <td>0</td>\n      <td>0</td>\n      <td>0</td>\n      <td>0</td>\n    </tr>\n    <tr>\n      <th>186</th>\n      <td>.C</td>\n      <td>ant-rel-1.6.0</td>\n      <td>0</td>\n      <td>0</td>\n      <td>1</td>\n      <td>2</td>\n      <td>15494</td>\n      <td>0</td>\n      <td>0</td>\n      <td>2</td>\n      <td>...</td>\n      <td>NaN</td>\n      <td>0</td>\n      <td>0</td>\n      <td>1.0</td>\n      <td>0.000000</td>\n      <td>0</td>\n      <td>0</td>\n      <td>0</td>\n      <td>0</td>\n      <td>0</td>\n    </tr>\n    <tr>\n      <th>...</th>\n      <td>...</td>\n      <td>...</td>\n      <td>...</td>\n      <td>...</td>\n      <td>...</td>\n      <td>...</td>\n      <td>...</td>\n      <td>...</td>\n      <td>...</td>\n      <td>...</td>\n      <td>...</td>\n      <td>...</td>\n      <td>...</td>\n      <td>...</td>\n      <td>...</td>\n      <td>...</td>\n      <td>...</td>\n      <td>...</td>\n      <td>...</td>\n      <td>...</td>\n      <td>...</td>\n    </tr>\n    <tr>\n      <th>73846</th>\n      <td>org.apache.xml.serialize.Method</td>\n      <td>xerces-Xerces-J_1_4_2</td>\n      <td>0</td>\n      <td>0</td>\n      <td>1</td>\n      <td>27</td>\n      <td>104</td>\n      <td>0</td>\n      <td>0</td>\n      <td>27</td>\n      <td>...</td>\n      <td>NaN</td>\n      <td>0</td>\n      <td>0</td>\n      <td>1.0</td>\n      <td>0.927032</td>\n      <td>0</td>\n      <td>0</td>\n      <td>0</td>\n      <td>0</td>\n      <td>0</td>\n    </tr>\n    <tr>\n      <th>73857</th>\n      <td>org.w3c.dom.CDATASection</td>\n      <td>xerces-Xerces-J_1_4_2</td>\n      <td>0</td>\n      <td>0</td>\n      <td>1</td>\n      <td>5</td>\n      <td>68</td>\n      <td>0</td>\n      <td>0</td>\n      <td>5</td>\n      <td>...</td>\n      <td>NaN</td>\n      <td>0</td>\n      <td>0</td>\n      <td>1.0</td>\n      <td>0.893543</td>\n      <td>0</td>\n      <td>0</td>\n      <td>0</td>\n      <td>0</td>\n      <td>0</td>\n    </tr>\n    <tr>\n      <th>73859</th>\n      <td>org.w3c.dom.Comment</td>\n      <td>xerces-Xerces-J_1_4_2</td>\n      <td>0</td>\n      <td>0</td>\n      <td>1</td>\n      <td>5</td>\n      <td>143</td>\n      <td>0</td>\n      <td>0</td>\n      <td>5</td>\n      <td>...</td>\n      <td>NaN</td>\n      <td>0</td>\n      <td>0</td>\n      <td>1.0</td>\n      <td>0.949611</td>\n      <td>0</td>\n      <td>0</td>\n      <td>0</td>\n      <td>0</td>\n      <td>0</td>\n    </tr>\n    <tr>\n      <th>73863</th>\n      <td>org.w3c.dom.DocumentFragment</td>\n      <td>xerces-Xerces-J_1_4_2</td>\n      <td>0</td>\n      <td>0</td>\n      <td>1</td>\n      <td>5</td>\n      <td>125</td>\n      <td>0</td>\n      <td>0</td>\n      <td>5</td>\n      <td>...</td>\n      <td>NaN</td>\n      <td>0</td>\n      <td>0</td>\n      <td>1.0</td>\n      <td>0.851116</td>\n      <td>0</td>\n      <td>0</td>\n      <td>0</td>\n      <td>0</td>\n      <td>0</td>\n    </tr>\n    <tr>\n      <th>73867</th>\n      <td>org.w3c.dom.EntityReference</td>\n      <td>xerces-Xerces-J_1_4_2</td>\n      <td>0</td>\n      <td>0</td>\n      <td>1</td>\n      <td>5</td>\n      <td>156</td>\n      <td>0</td>\n      <td>0</td>\n      <td>5</td>\n      <td>...</td>\n      <td>NaN</td>\n      <td>0</td>\n      <td>0</td>\n      <td>1.0</td>\n      <td>0.895770</td>\n      <td>0</td>\n      <td>0</td>\n      <td>0</td>\n      <td>0</td>\n      <td>0</td>\n    </tr>\n  </tbody>\n</table>\n<p>1360 rows × 28 columns</p>\n</div>"
     },
     "execution_count": 1,
     "metadata": {},
     "output_type": "execute_result"
    }
   ],
   "source": [
    "import pandas as pd\n",
    "\n",
    "dataset = pd.read_csv(\"datasets/complete_dataset.csv\")\n",
    "\n",
    "#find rows with NaN value\n",
    "nan_values = dataset[dataset.isna().any(axis=1)]\n",
    "nan_values"
   ],
   "metadata": {
    "collapsed": false,
    "pycharm": {
     "name": "#%%\n"
    }
   }
  },
  {
   "cell_type": "code",
   "execution_count": 2,
   "outputs": [
    {
     "data": {
      "text/plain": "M_WLOCNAMM           1352\nM_TextualCohesion       1\nM_TextualEntropy        8\ndtype: int64"
     },
     "execution_count": 2,
     "metadata": {},
     "output_type": "execute_result"
    }
   ],
   "source": [
    "#Count Nan in each column\n",
    "nan_count = pd.isnull(dataset).sum()\n",
    "\n",
    "#True or False describing if that column had nulls\n",
    "is_null = nan_count > 0\n",
    "nan_count[is_null]"
   ],
   "metadata": {
    "collapsed": false,
    "pycharm": {
     "name": "#%%\n"
    }
   }
  },
  {
   "cell_type": "code",
   "execution_count": 2,
   "outputs": [],
   "source": [],
   "metadata": {
    "collapsed": false,
    "pycharm": {
     "name": "#%%\n"
    }
   }
  },
  {
   "cell_type": "code",
   "execution_count": 2,
   "outputs": [],
   "source": [],
   "metadata": {
    "collapsed": false,
    "pycharm": {
     "name": "#%%\n"
    }
   }
  },
  {
   "cell_type": "code",
   "execution_count": 2,
   "outputs": [],
   "source": [],
   "metadata": {
    "collapsed": false,
    "pycharm": {
     "name": "#%%\n"
    }
   }
  },
  {
   "cell_type": "markdown",
   "source": [
    "### Replace Nan with KNN imputation"
   ],
   "metadata": {
    "collapsed": false,
    "pycharm": {
     "name": "#%% md\n"
    }
   }
  },
  {
   "cell_type": "code",
   "execution_count": 3,
   "outputs": [
    {
     "data": {
      "text/plain": "       M_CBO  M_CYCLO  M_DIT  M_ELOC  M_FanIn  M_FanIn_1  M_LCOM   M_LOC  \\\n0       12.0    191.0    1.0   889.0     61.0      141.0  1922.0   889.0   \n1       12.0      5.0    1.0    14.0      5.0        0.0     0.0    14.0   \n2       31.0    156.0    2.0  1606.0     87.0      167.0   608.0  1606.0   \n3       12.0      8.0    1.0    30.0     11.0        8.0     1.0    30.0   \n4        6.0     69.0    1.0   327.0     78.0       69.0    80.0   327.0   \n...      ...      ...    ...     ...      ...        ...     ...     ...   \n73905    0.0     29.0    1.0    70.0      6.0        0.0   325.0    70.0   \n73906    0.0     54.0    1.0   109.0      5.0        0.0   703.0   109.0   \n73907    0.0      5.0    1.0    14.0      5.0        0.0     3.0    14.0   \n73908    0.0      4.0    1.0    15.0      5.0        0.0     6.0    15.0   \n73909    0.0      9.0    1.0    19.0      5.0        0.0    10.0    19.0   \n\n       M_LOCNAMM  M_NOA  ...  M_NOM  M_NOMNAMM  M_NOPA    M_PMMM  M_PRB  \\\n0          889.0    9.0  ...   64.0       64.0     0.0  0.125000    0.0   \n1           14.0    0.0  ...    1.0        1.0     0.0  0.000000    0.0   \n2         1606.0   36.0  ...   41.0       41.0     1.0  0.048780    0.0   \n3           25.0    2.0  ...    3.0        2.0     0.0  0.333333    0.0   \n4          324.0    5.0  ...   20.0       19.0     0.0  0.000000    0.0   \n...          ...    ...  ...    ...        ...     ...       ...    ...   \n73905       70.0    0.0  ...   26.0       26.0     0.0  0.000000    0.0   \n73906      109.0    0.0  ...   38.0       38.0     0.0  0.000000    0.0   \n73907       14.0    0.0  ...    3.0        3.0     0.0  0.000000    0.0   \n73908       15.0    0.0  ...    4.0        4.0     0.0  0.000000    0.0   \n73909       19.0    0.0  ...    5.0        5.0     0.0  0.000000    0.0   \n\n       M_WLOCNAMM  M_WMC  M_WMCNAMM  M_TextualCohesion  M_TextualEntropy  \n0       13.453125  191.0        0.0           0.135878          0.823630  \n1        8.000000    5.0        0.0           1.000000          0.931994  \n2       20.365854  156.0        0.0           0.210269          0.814864  \n3        8.500000    8.0        0.0           0.500000          0.890971  \n4       15.947368   69.0        0.0           0.361105          0.832713  \n...           ...    ...        ...                ...               ...  \n73905    2.500000   29.0        0.0           0.163969          0.881089  \n73906    2.736842   54.0        0.0           0.155533          0.836960  \n73907    3.000000    5.0        0.0           0.216667          0.921425  \n73908    2.500000    4.0        0.0           0.246667          0.939300  \n73909    2.800000    9.0        0.0           0.238000          0.927202  \n\n[73910 rows x 21 columns]",
      "text/html": "<div>\n<style scoped>\n    .dataframe tbody tr th:only-of-type {\n        vertical-align: middle;\n    }\n\n    .dataframe tbody tr th {\n        vertical-align: top;\n    }\n\n    .dataframe thead th {\n        text-align: right;\n    }\n</style>\n<table border=\"1\" class=\"dataframe\">\n  <thead>\n    <tr style=\"text-align: right;\">\n      <th></th>\n      <th>M_CBO</th>\n      <th>M_CYCLO</th>\n      <th>M_DIT</th>\n      <th>M_ELOC</th>\n      <th>M_FanIn</th>\n      <th>M_FanIn_1</th>\n      <th>M_LCOM</th>\n      <th>M_LOC</th>\n      <th>M_LOCNAMM</th>\n      <th>M_NOA</th>\n      <th>...</th>\n      <th>M_NOM</th>\n      <th>M_NOMNAMM</th>\n      <th>M_NOPA</th>\n      <th>M_PMMM</th>\n      <th>M_PRB</th>\n      <th>M_WLOCNAMM</th>\n      <th>M_WMC</th>\n      <th>M_WMCNAMM</th>\n      <th>M_TextualCohesion</th>\n      <th>M_TextualEntropy</th>\n    </tr>\n  </thead>\n  <tbody>\n    <tr>\n      <th>0</th>\n      <td>12.0</td>\n      <td>191.0</td>\n      <td>1.0</td>\n      <td>889.0</td>\n      <td>61.0</td>\n      <td>141.0</td>\n      <td>1922.0</td>\n      <td>889.0</td>\n      <td>889.0</td>\n      <td>9.0</td>\n      <td>...</td>\n      <td>64.0</td>\n      <td>64.0</td>\n      <td>0.0</td>\n      <td>0.125000</td>\n      <td>0.0</td>\n      <td>13.453125</td>\n      <td>191.0</td>\n      <td>0.0</td>\n      <td>0.135878</td>\n      <td>0.823630</td>\n    </tr>\n    <tr>\n      <th>1</th>\n      <td>12.0</td>\n      <td>5.0</td>\n      <td>1.0</td>\n      <td>14.0</td>\n      <td>5.0</td>\n      <td>0.0</td>\n      <td>0.0</td>\n      <td>14.0</td>\n      <td>14.0</td>\n      <td>0.0</td>\n      <td>...</td>\n      <td>1.0</td>\n      <td>1.0</td>\n      <td>0.0</td>\n      <td>0.000000</td>\n      <td>0.0</td>\n      <td>8.000000</td>\n      <td>5.0</td>\n      <td>0.0</td>\n      <td>1.000000</td>\n      <td>0.931994</td>\n    </tr>\n    <tr>\n      <th>2</th>\n      <td>31.0</td>\n      <td>156.0</td>\n      <td>2.0</td>\n      <td>1606.0</td>\n      <td>87.0</td>\n      <td>167.0</td>\n      <td>608.0</td>\n      <td>1606.0</td>\n      <td>1606.0</td>\n      <td>36.0</td>\n      <td>...</td>\n      <td>41.0</td>\n      <td>41.0</td>\n      <td>1.0</td>\n      <td>0.048780</td>\n      <td>0.0</td>\n      <td>20.365854</td>\n      <td>156.0</td>\n      <td>0.0</td>\n      <td>0.210269</td>\n      <td>0.814864</td>\n    </tr>\n    <tr>\n      <th>3</th>\n      <td>12.0</td>\n      <td>8.0</td>\n      <td>1.0</td>\n      <td>30.0</td>\n      <td>11.0</td>\n      <td>8.0</td>\n      <td>1.0</td>\n      <td>30.0</td>\n      <td>25.0</td>\n      <td>2.0</td>\n      <td>...</td>\n      <td>3.0</td>\n      <td>2.0</td>\n      <td>0.0</td>\n      <td>0.333333</td>\n      <td>0.0</td>\n      <td>8.500000</td>\n      <td>8.0</td>\n      <td>0.0</td>\n      <td>0.500000</td>\n      <td>0.890971</td>\n    </tr>\n    <tr>\n      <th>4</th>\n      <td>6.0</td>\n      <td>69.0</td>\n      <td>1.0</td>\n      <td>327.0</td>\n      <td>78.0</td>\n      <td>69.0</td>\n      <td>80.0</td>\n      <td>327.0</td>\n      <td>324.0</td>\n      <td>5.0</td>\n      <td>...</td>\n      <td>20.0</td>\n      <td>19.0</td>\n      <td>0.0</td>\n      <td>0.000000</td>\n      <td>0.0</td>\n      <td>15.947368</td>\n      <td>69.0</td>\n      <td>0.0</td>\n      <td>0.361105</td>\n      <td>0.832713</td>\n    </tr>\n    <tr>\n      <th>...</th>\n      <td>...</td>\n      <td>...</td>\n      <td>...</td>\n      <td>...</td>\n      <td>...</td>\n      <td>...</td>\n      <td>...</td>\n      <td>...</td>\n      <td>...</td>\n      <td>...</td>\n      <td>...</td>\n      <td>...</td>\n      <td>...</td>\n      <td>...</td>\n      <td>...</td>\n      <td>...</td>\n      <td>...</td>\n      <td>...</td>\n      <td>...</td>\n      <td>...</td>\n      <td>...</td>\n    </tr>\n    <tr>\n      <th>73905</th>\n      <td>0.0</td>\n      <td>29.0</td>\n      <td>1.0</td>\n      <td>70.0</td>\n      <td>6.0</td>\n      <td>0.0</td>\n      <td>325.0</td>\n      <td>70.0</td>\n      <td>70.0</td>\n      <td>0.0</td>\n      <td>...</td>\n      <td>26.0</td>\n      <td>26.0</td>\n      <td>0.0</td>\n      <td>0.000000</td>\n      <td>0.0</td>\n      <td>2.500000</td>\n      <td>29.0</td>\n      <td>0.0</td>\n      <td>0.163969</td>\n      <td>0.881089</td>\n    </tr>\n    <tr>\n      <th>73906</th>\n      <td>0.0</td>\n      <td>54.0</td>\n      <td>1.0</td>\n      <td>109.0</td>\n      <td>5.0</td>\n      <td>0.0</td>\n      <td>703.0</td>\n      <td>109.0</td>\n      <td>109.0</td>\n      <td>0.0</td>\n      <td>...</td>\n      <td>38.0</td>\n      <td>38.0</td>\n      <td>0.0</td>\n      <td>0.000000</td>\n      <td>0.0</td>\n      <td>2.736842</td>\n      <td>54.0</td>\n      <td>0.0</td>\n      <td>0.155533</td>\n      <td>0.836960</td>\n    </tr>\n    <tr>\n      <th>73907</th>\n      <td>0.0</td>\n      <td>5.0</td>\n      <td>1.0</td>\n      <td>14.0</td>\n      <td>5.0</td>\n      <td>0.0</td>\n      <td>3.0</td>\n      <td>14.0</td>\n      <td>14.0</td>\n      <td>0.0</td>\n      <td>...</td>\n      <td>3.0</td>\n      <td>3.0</td>\n      <td>0.0</td>\n      <td>0.000000</td>\n      <td>0.0</td>\n      <td>3.000000</td>\n      <td>5.0</td>\n      <td>0.0</td>\n      <td>0.216667</td>\n      <td>0.921425</td>\n    </tr>\n    <tr>\n      <th>73908</th>\n      <td>0.0</td>\n      <td>4.0</td>\n      <td>1.0</td>\n      <td>15.0</td>\n      <td>5.0</td>\n      <td>0.0</td>\n      <td>6.0</td>\n      <td>15.0</td>\n      <td>15.0</td>\n      <td>0.0</td>\n      <td>...</td>\n      <td>4.0</td>\n      <td>4.0</td>\n      <td>0.0</td>\n      <td>0.000000</td>\n      <td>0.0</td>\n      <td>2.500000</td>\n      <td>4.0</td>\n      <td>0.0</td>\n      <td>0.246667</td>\n      <td>0.939300</td>\n    </tr>\n    <tr>\n      <th>73909</th>\n      <td>0.0</td>\n      <td>9.0</td>\n      <td>1.0</td>\n      <td>19.0</td>\n      <td>5.0</td>\n      <td>0.0</td>\n      <td>10.0</td>\n      <td>19.0</td>\n      <td>19.0</td>\n      <td>0.0</td>\n      <td>...</td>\n      <td>5.0</td>\n      <td>5.0</td>\n      <td>0.0</td>\n      <td>0.000000</td>\n      <td>0.0</td>\n      <td>2.800000</td>\n      <td>9.0</td>\n      <td>0.0</td>\n      <td>0.238000</td>\n      <td>0.927202</td>\n    </tr>\n  </tbody>\n</table>\n<p>73910 rows × 21 columns</p>\n</div>"
     },
     "execution_count": 3,
     "metadata": {},
     "output_type": "execute_result"
    }
   ],
   "source": [
    "import sys\n",
    "from impyute.imputation.cs import fast_knn\n",
    "\n",
    "#increase the recursion limit of the OS\n",
    "sys.setrecursionlimit(100000)\n",
    "\n",
    "#get features columns\n",
    "X = dataset.iloc[:,2:-5]\n",
    "features_name = X.columns.values.tolist()\n",
    "\n",
    "#get five target columns\n",
    "y = dataset.iloc[:,-5:]\n",
    "\n",
    "#stat the KNN training\n",
    "imputed_training= fast_knn(X.to_numpy(), k=30)\n",
    "\n",
    "imputed_dataset = pd.DataFrame(imputed_training, columns = features_name)\n",
    "imputed_dataset"
   ],
   "metadata": {
    "collapsed": false,
    "pycharm": {
     "name": "#%%\n"
    }
   }
  },
  {
   "cell_type": "code",
   "execution_count": 4,
   "outputs": [
    {
     "data": {
      "text/plain": "                                        ComponentName            nameProject  \\\n0            org.apache.tools.ant.IntrospectionHelper          ant-rel-1.6.0   \n1        org.apache.tools.ant.ProjectComponentFactory          ant-rel-1.6.0   \n2      org.apache.tools.ant.taskdefs.optional.net.FTP          ant-rel-1.6.0   \n3         org.apache.tools.ant.ProjectComponentHelper          ant-rel-1.6.0   \n4                 org.apache.tools.ant.PropertyHelper          ant-rel-1.6.0   \n...                                               ...                    ...   \n73905               org.w3c.dom.html.HTMLImageElement  xerces-Xerces-J_1_4_2   \n73906               org.w3c.dom.html.HTMLInputElement  xerces-Xerces-J_1_4_2   \n73907             org.w3c.dom.html.HTMLIsIndexElement  xerces-Xerces-J_1_4_2   \n73908                  org.w3c.dom.html.HTMLLIElement  xerces-Xerces-J_1_4_2   \n73909               org.w3c.dom.html.HTMLLabelElement  xerces-Xerces-J_1_4_2   \n\n       M_CBO  M_CYCLO  M_DIT  M_ELOC  M_FanIn  M_FanIn_1  M_LCOM   M_LOC  ...  \\\n0       12.0    191.0    1.0   889.0     61.0      141.0  1922.0   889.0  ...   \n1       12.0      5.0    1.0    14.0      5.0        0.0     0.0    14.0  ...   \n2       31.0    156.0    2.0  1606.0     87.0      167.0   608.0  1606.0  ...   \n3       12.0      8.0    1.0    30.0     11.0        8.0     1.0    30.0  ...   \n4        6.0     69.0    1.0   327.0     78.0       69.0    80.0   327.0  ...   \n...      ...      ...    ...     ...      ...        ...     ...     ...  ...   \n73905    0.0     29.0    1.0    70.0      6.0        0.0   325.0    70.0  ...   \n73906    0.0     54.0    1.0   109.0      5.0        0.0   703.0   109.0  ...   \n73907    0.0      5.0    1.0    14.0      5.0        0.0     3.0    14.0  ...   \n73908    0.0      4.0    1.0    15.0      5.0        0.0     6.0    15.0  ...   \n73909    0.0      9.0    1.0    19.0      5.0        0.0    10.0    19.0  ...   \n\n       M_WLOCNAMM  M_WMC  M_WMCNAMM  M_TextualCohesion  M_TextualEntropy  \\\n0       13.453125  191.0        0.0           0.135878          0.823630   \n1        8.000000    5.0        0.0           1.000000          0.931994   \n2       20.365854  156.0        0.0           0.210269          0.814864   \n3        8.500000    8.0        0.0           0.500000          0.890971   \n4       15.947368   69.0        0.0           0.361105          0.832713   \n...           ...    ...        ...                ...               ...   \n73905    2.500000   29.0        0.0           0.163969          0.881089   \n73906    2.736842   54.0        0.0           0.155533          0.836960   \n73907    3.000000    5.0        0.0           0.216667          0.921425   \n73908    2.500000    4.0        0.0           0.246667          0.939300   \n73909    2.800000    9.0        0.0           0.238000          0.927202   \n\n       ComplexClass  LargeClass  LazyClass  RefusedBequest  SpaghettiCode  \n0                 1           0          0               0              0  \n1                 0           0          0               0              0  \n2                 1           0          0               0              0  \n3                 0           0          0               0              0  \n4                 0           0          0               0              0  \n...             ...         ...        ...             ...            ...  \n73905             0           0          0               0              0  \n73906             0           0          0               0              0  \n73907             0           0          0               0              0  \n73908             0           0          0               0              0  \n73909             0           0          0               0              0  \n\n[73910 rows x 28 columns]",
      "text/html": "<div>\n<style scoped>\n    .dataframe tbody tr th:only-of-type {\n        vertical-align: middle;\n    }\n\n    .dataframe tbody tr th {\n        vertical-align: top;\n    }\n\n    .dataframe thead th {\n        text-align: right;\n    }\n</style>\n<table border=\"1\" class=\"dataframe\">\n  <thead>\n    <tr style=\"text-align: right;\">\n      <th></th>\n      <th>ComponentName</th>\n      <th>nameProject</th>\n      <th>M_CBO</th>\n      <th>M_CYCLO</th>\n      <th>M_DIT</th>\n      <th>M_ELOC</th>\n      <th>M_FanIn</th>\n      <th>M_FanIn_1</th>\n      <th>M_LCOM</th>\n      <th>M_LOC</th>\n      <th>...</th>\n      <th>M_WLOCNAMM</th>\n      <th>M_WMC</th>\n      <th>M_WMCNAMM</th>\n      <th>M_TextualCohesion</th>\n      <th>M_TextualEntropy</th>\n      <th>ComplexClass</th>\n      <th>LargeClass</th>\n      <th>LazyClass</th>\n      <th>RefusedBequest</th>\n      <th>SpaghettiCode</th>\n    </tr>\n  </thead>\n  <tbody>\n    <tr>\n      <th>0</th>\n      <td>org.apache.tools.ant.IntrospectionHelper</td>\n      <td>ant-rel-1.6.0</td>\n      <td>12.0</td>\n      <td>191.0</td>\n      <td>1.0</td>\n      <td>889.0</td>\n      <td>61.0</td>\n      <td>141.0</td>\n      <td>1922.0</td>\n      <td>889.0</td>\n      <td>...</td>\n      <td>13.453125</td>\n      <td>191.0</td>\n      <td>0.0</td>\n      <td>0.135878</td>\n      <td>0.823630</td>\n      <td>1</td>\n      <td>0</td>\n      <td>0</td>\n      <td>0</td>\n      <td>0</td>\n    </tr>\n    <tr>\n      <th>1</th>\n      <td>org.apache.tools.ant.ProjectComponentFactory</td>\n      <td>ant-rel-1.6.0</td>\n      <td>12.0</td>\n      <td>5.0</td>\n      <td>1.0</td>\n      <td>14.0</td>\n      <td>5.0</td>\n      <td>0.0</td>\n      <td>0.0</td>\n      <td>14.0</td>\n      <td>...</td>\n      <td>8.000000</td>\n      <td>5.0</td>\n      <td>0.0</td>\n      <td>1.000000</td>\n      <td>0.931994</td>\n      <td>0</td>\n      <td>0</td>\n      <td>0</td>\n      <td>0</td>\n      <td>0</td>\n    </tr>\n    <tr>\n      <th>2</th>\n      <td>org.apache.tools.ant.taskdefs.optional.net.FTP</td>\n      <td>ant-rel-1.6.0</td>\n      <td>31.0</td>\n      <td>156.0</td>\n      <td>2.0</td>\n      <td>1606.0</td>\n      <td>87.0</td>\n      <td>167.0</td>\n      <td>608.0</td>\n      <td>1606.0</td>\n      <td>...</td>\n      <td>20.365854</td>\n      <td>156.0</td>\n      <td>0.0</td>\n      <td>0.210269</td>\n      <td>0.814864</td>\n      <td>1</td>\n      <td>0</td>\n      <td>0</td>\n      <td>0</td>\n      <td>0</td>\n    </tr>\n    <tr>\n      <th>3</th>\n      <td>org.apache.tools.ant.ProjectComponentHelper</td>\n      <td>ant-rel-1.6.0</td>\n      <td>12.0</td>\n      <td>8.0</td>\n      <td>1.0</td>\n      <td>30.0</td>\n      <td>11.0</td>\n      <td>8.0</td>\n      <td>1.0</td>\n      <td>30.0</td>\n      <td>...</td>\n      <td>8.500000</td>\n      <td>8.0</td>\n      <td>0.0</td>\n      <td>0.500000</td>\n      <td>0.890971</td>\n      <td>0</td>\n      <td>0</td>\n      <td>0</td>\n      <td>0</td>\n      <td>0</td>\n    </tr>\n    <tr>\n      <th>4</th>\n      <td>org.apache.tools.ant.PropertyHelper</td>\n      <td>ant-rel-1.6.0</td>\n      <td>6.0</td>\n      <td>69.0</td>\n      <td>1.0</td>\n      <td>327.0</td>\n      <td>78.0</td>\n      <td>69.0</td>\n      <td>80.0</td>\n      <td>327.0</td>\n      <td>...</td>\n      <td>15.947368</td>\n      <td>69.0</td>\n      <td>0.0</td>\n      <td>0.361105</td>\n      <td>0.832713</td>\n      <td>0</td>\n      <td>0</td>\n      <td>0</td>\n      <td>0</td>\n      <td>0</td>\n    </tr>\n    <tr>\n      <th>...</th>\n      <td>...</td>\n      <td>...</td>\n      <td>...</td>\n      <td>...</td>\n      <td>...</td>\n      <td>...</td>\n      <td>...</td>\n      <td>...</td>\n      <td>...</td>\n      <td>...</td>\n      <td>...</td>\n      <td>...</td>\n      <td>...</td>\n      <td>...</td>\n      <td>...</td>\n      <td>...</td>\n      <td>...</td>\n      <td>...</td>\n      <td>...</td>\n      <td>...</td>\n      <td>...</td>\n    </tr>\n    <tr>\n      <th>73905</th>\n      <td>org.w3c.dom.html.HTMLImageElement</td>\n      <td>xerces-Xerces-J_1_4_2</td>\n      <td>0.0</td>\n      <td>29.0</td>\n      <td>1.0</td>\n      <td>70.0</td>\n      <td>6.0</td>\n      <td>0.0</td>\n      <td>325.0</td>\n      <td>70.0</td>\n      <td>...</td>\n      <td>2.500000</td>\n      <td>29.0</td>\n      <td>0.0</td>\n      <td>0.163969</td>\n      <td>0.881089</td>\n      <td>0</td>\n      <td>0</td>\n      <td>0</td>\n      <td>0</td>\n      <td>0</td>\n    </tr>\n    <tr>\n      <th>73906</th>\n      <td>org.w3c.dom.html.HTMLInputElement</td>\n      <td>xerces-Xerces-J_1_4_2</td>\n      <td>0.0</td>\n      <td>54.0</td>\n      <td>1.0</td>\n      <td>109.0</td>\n      <td>5.0</td>\n      <td>0.0</td>\n      <td>703.0</td>\n      <td>109.0</td>\n      <td>...</td>\n      <td>2.736842</td>\n      <td>54.0</td>\n      <td>0.0</td>\n      <td>0.155533</td>\n      <td>0.836960</td>\n      <td>0</td>\n      <td>0</td>\n      <td>0</td>\n      <td>0</td>\n      <td>0</td>\n    </tr>\n    <tr>\n      <th>73907</th>\n      <td>org.w3c.dom.html.HTMLIsIndexElement</td>\n      <td>xerces-Xerces-J_1_4_2</td>\n      <td>0.0</td>\n      <td>5.0</td>\n      <td>1.0</td>\n      <td>14.0</td>\n      <td>5.0</td>\n      <td>0.0</td>\n      <td>3.0</td>\n      <td>14.0</td>\n      <td>...</td>\n      <td>3.000000</td>\n      <td>5.0</td>\n      <td>0.0</td>\n      <td>0.216667</td>\n      <td>0.921425</td>\n      <td>0</td>\n      <td>0</td>\n      <td>0</td>\n      <td>0</td>\n      <td>0</td>\n    </tr>\n    <tr>\n      <th>73908</th>\n      <td>org.w3c.dom.html.HTMLLIElement</td>\n      <td>xerces-Xerces-J_1_4_2</td>\n      <td>0.0</td>\n      <td>4.0</td>\n      <td>1.0</td>\n      <td>15.0</td>\n      <td>5.0</td>\n      <td>0.0</td>\n      <td>6.0</td>\n      <td>15.0</td>\n      <td>...</td>\n      <td>2.500000</td>\n      <td>4.0</td>\n      <td>0.0</td>\n      <td>0.246667</td>\n      <td>0.939300</td>\n      <td>0</td>\n      <td>0</td>\n      <td>0</td>\n      <td>0</td>\n      <td>0</td>\n    </tr>\n    <tr>\n      <th>73909</th>\n      <td>org.w3c.dom.html.HTMLLabelElement</td>\n      <td>xerces-Xerces-J_1_4_2</td>\n      <td>0.0</td>\n      <td>9.0</td>\n      <td>1.0</td>\n      <td>19.0</td>\n      <td>5.0</td>\n      <td>0.0</td>\n      <td>10.0</td>\n      <td>19.0</td>\n      <td>...</td>\n      <td>2.800000</td>\n      <td>9.0</td>\n      <td>0.0</td>\n      <td>0.238000</td>\n      <td>0.927202</td>\n      <td>0</td>\n      <td>0</td>\n      <td>0</td>\n      <td>0</td>\n      <td>0</td>\n    </tr>\n  </tbody>\n</table>\n<p>73910 rows × 28 columns</p>\n</div>"
     },
     "execution_count": 4,
     "metadata": {},
     "output_type": "execute_result"
    }
   ],
   "source": [
    "df_left = dataset.iloc[:,:2]\n",
    "\n",
    "#join first and second column to new dataset\n",
    "result = pd.concat([df_left, imputed_dataset], axis=1)\n",
    "\n",
    "#join target columns to new dataset\n",
    "result = pd.concat([result, y], axis=1)\n",
    "result.to_csv('datasets/imputed_dataset.csv', index=False)\n",
    "result"
   ],
   "metadata": {
    "collapsed": false,
    "pycharm": {
     "name": "#%%\n"
    }
   }
  }
 ],
 "metadata": {
  "kernelspec": {
   "display_name": "Python 3",
   "language": "python",
   "name": "python3"
  },
  "language_info": {
   "codemirror_mode": {
    "name": "ipython",
    "version": 2
   },
   "file_extension": ".py",
   "mimetype": "text/x-python",
   "name": "python",
   "nbconvert_exporter": "python",
   "pygments_lexer": "ipython2",
   "version": "2.7.6"
  }
 },
 "nbformat": 4,
 "nbformat_minor": 0
}