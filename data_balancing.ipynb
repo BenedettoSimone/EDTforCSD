{
 "cells": [
  {
   "cell_type": "markdown",
   "metadata": {
    "collapsed": true,
    "pycharm": {
     "name": "#%% md\n"
    }
   },
   "source": [
    "# Data balancing"
   ]
  },
  {
   "cell_type": "markdown",
   "source": [
    "### Count number of smells"
   ],
   "metadata": {
    "collapsed": false,
    "pycharm": {
     "name": "#%% md\n"
    }
   }
  },
  {
   "cell_type": "code",
   "execution_count": 1,
   "outputs": [
    {
     "data": {
      "text/plain": "<Figure size 360x576 with 1 Axes>",
      "image/png": "[encoded data removed]"
     },
     "metadata": {
      "needs_background": "light"
     },
     "output_type": "display_data"
    }
   ],
   "source": [
    "import matplotlib.pyplot as plt\n",
    "import pandas as pd\n",
    "\n",
    "dataset = pd.read_csv('datasets/imputed_dataset.csv')\n",
    "\n",
    "complex = dataset[dataset['ComplexClass'] == 1]\n",
    "lazy = dataset[dataset['LazyClass'] == 1]\n",
    "large = dataset[dataset['LargeClass'] == 1]\n",
    "refused = dataset[dataset['RefusedBequest'] == 1]\n",
    "spaghetti = dataset[dataset['SpaghettiCode'] == 1]\n",
    "\n",
    "count_complex = len(complex)\n",
    "count_lazy = len(lazy)\n",
    "count_large = len(large)\n",
    "count_refused = len(refused)\n",
    "count_spaghetti = len(spaghetti)\n",
    "count_smells = count_complex + count_lazy + count_large + count_refused + count_spaghetti\n",
    "\n",
    "\n",
    "def add_value_label(x_list,y_list, k):\n",
    "    for i in range(0, len(x_list)):\n",
    "        plt.text(i,y_list[i]+k,y_list[i], ha=\"center\")\n",
    "\n",
    "types = ['Smells', 'Not Smells']\n",
    "values = [count_smells,len(dataset)-count_smells ]\n",
    "\n",
    "fig = plt.figure(figsize = (5, 8))\n",
    "plt.bar(types, values, color ='maroon')\n",
    "add_value_label(types,values, 1000)\n",
    "\n",
    "plt.xlabel(\"Label\")\n",
    "plt.ylabel(\"Number of samples\")\n",
    "plt.show()"
   ],
   "metadata": {
    "collapsed": false,
    "pycharm": {
     "name": "#%%\n"
    }
   }
  },
  {
   "cell_type": "code",
   "execution_count": 2,
   "outputs": [
    {
     "data": {
      "text/plain": "<Figure size 576x576 with 1 Axes>",
      "image/png": "[encoded data removed]"
     },
     "metadata": {
      "needs_background": "light"
     },
     "output_type": "display_data"
    }
   ],
   "source": [
    "types = ['ComplexClass', 'LazyClass', 'LargeClass', 'RefusedBequest', 'SpaghettiCode']\n",
    "values = [count_complex, count_lazy, count_large, count_refused, count_spaghetti]\n",
    "\n",
    "fig = plt.figure(figsize = (8, 8))\n",
    "plt.bar(types,values, color ='maroon')\n",
    "add_value_label(types,values, 5)\n",
    "\n",
    "plt.xlabel(\"Target Classes\")\n",
    "plt.ylabel(\"Number of samples\")\n",
    "plt.show()"
   ],
   "metadata": {
    "collapsed": false,
    "pycharm": {
     "name": "#%%\n"
    }
   }
  },
  {
   "cell_type": "code",
   "execution_count": 2,
   "outputs": [],
   "source": [],
   "metadata": {
    "collapsed": false,
    "pycharm": {
     "name": "#%%\n"
    }
   }
  },
  {
   "cell_type": "markdown",
   "source": [],
   "metadata": {
    "collapsed": false
   }
  },
  {
   "cell_type": "code",
   "execution_count": 18,
   "outputs": [
    {
     "name": "stdout",
     "output_type": "stream",
     "text": [
      "Features_name: ['M_CBO', 'M_CYCLO', 'M_DIT', 'M_ELOC', 'M_FanIn', 'M_FanIn_1', 'M_LCOM', 'M_LOC', 'M_LOCNAMM', 'M_NOA', 'M_NOC', 'M_NOM', 'M_NOMNAMM', 'M_NOPA', 'M_PMMM', 'M_PRB', 'M_WLOCNAMM', 'M_WMC', 'M_WMCNAMM', 'M_TextualCohesion', 'M_TextualEntropy']\n",
      "Class_name: ['ComplexClass']\n",
      "StratifiedKFold(n_splits=10, random_state=None, shuffle=False)\n",
      "Features_name: ['M_CBO', 'M_CYCLO', 'M_DIT', 'M_ELOC', 'M_FanIn', 'M_FanIn_1', 'M_LCOM', 'M_LOC', 'M_LOCNAMM', 'M_NOA', 'M_NOC', 'M_NOM', 'M_NOMNAMM', 'M_NOPA', 'M_PMMM', 'M_PRB', 'M_WLOCNAMM', 'M_WMC', 'M_WMCNAMM', 'M_TextualCohesion', 'M_TextualEntropy']\n",
      "Class_name: ['LargeClass']\n",
      "StratifiedKFold(n_splits=10, random_state=None, shuffle=False)\n",
      "Features_name: ['M_CBO', 'M_CYCLO', 'M_DIT', 'M_ELOC', 'M_FanIn', 'M_FanIn_1', 'M_LCOM', 'M_LOC', 'M_LOCNAMM', 'M_NOA', 'M_NOC', 'M_NOM', 'M_NOMNAMM', 'M_NOPA', 'M_PMMM', 'M_PRB', 'M_WLOCNAMM', 'M_WMC', 'M_WMCNAMM', 'M_TextualCohesion', 'M_TextualEntropy']\n",
      "Class_name: ['LazyClass']\n",
      "StratifiedKFold(n_splits=10, random_state=None, shuffle=False)\n",
      "Features_name: ['M_CBO', 'M_CYCLO', 'M_DIT', 'M_ELOC', 'M_FanIn', 'M_FanIn_1', 'M_LCOM', 'M_LOC', 'M_LOCNAMM', 'M_NOA', 'M_NOC', 'M_NOM', 'M_NOMNAMM', 'M_NOPA', 'M_PMMM', 'M_PRB', 'M_WLOCNAMM', 'M_WMC', 'M_WMCNAMM', 'M_TextualCohesion', 'M_TextualEntropy']\n",
      "Class_name: ['RefusedBequest']\n",
      "StratifiedKFold(n_splits=10, random_state=None, shuffle=False)\n",
      "Features_name: ['M_CBO', 'M_CYCLO', 'M_DIT', 'M_ELOC', 'M_FanIn', 'M_FanIn_1', 'M_LCOM', 'M_LOC', 'M_LOCNAMM', 'M_NOA', 'M_NOC', 'M_NOM', 'M_NOMNAMM', 'M_NOPA', 'M_PMMM', 'M_PRB', 'M_WLOCNAMM', 'M_WMC', 'M_WMCNAMM', 'M_TextualCohesion', 'M_TextualEntropy']\n",
      "Class_name: ['SpaghettiCode']\n",
      "StratifiedKFold(n_splits=10, random_state=None, shuffle=False)\n"
     ]
    }
   ],
   "source": [
    "import pandas as pd\n",
    "from sklearn.model_selection import StratifiedKFold\n",
    "import os\n",
    "import shutil\n",
    "\n",
    "\n",
    "path = 'datasets/stratifiedKfold'\n",
    "# Check whether the specified path exists or not\n",
    "isExist = os.path.exists(path)\n",
    "if isExist:\n",
    "    shutil.rmtree(path)\n",
    "os.mkdir(path)\n",
    "\n",
    "\n",
    "imputed_dataset = pd.read_csv(\"datasets/imputed_dataset.csv\")\n",
    "\n",
    "for i in range(0,5):\n",
    "    X = imputed_dataset.iloc[:, 2:-5]\n",
    "    features_name = X.columns.values.tolist()\n",
    "    if i != 4:\n",
    "        y = imputed_dataset.iloc[:, -5+i:-4+i]\n",
    "    else:\n",
    "        y = imputed_dataset.iloc[:, -1:]\n",
    "    class_name = y.columns.values.tolist()\n",
    "\n",
    "    print(\"Features_name:\", features_name )\n",
    "    print(\"Class_name:\", class_name )\n",
    "\n",
    "\n",
    "    path = 'datasets/stratifiedKfold/'+class_name[0]\n",
    "    # Check whether the specified path exists or not\n",
    "    isExist = os.path.exists(path)\n",
    "    if isExist:\n",
    "        shutil.rmtree(path)\n",
    "    os.mkdir(path)\n",
    "\n",
    "    X = X.to_numpy()\n",
    "    y = y.to_numpy()\n",
    "\n",
    "    skf = StratifiedKFold(n_splits=10)\n",
    "    skf.get_n_splits(X, y)\n",
    "\n",
    "    print(skf)\n",
    "\n",
    "    counter = 1\n",
    "    for train_index, test_index in skf.split(X, y):\n",
    "\n",
    "        path = 'datasets/stratifiedKfold/'+class_name[0]+'/'+str(counter)\n",
    "        # Check whether the specified path exists or not\n",
    "        isExist = os.path.exists(path)\n",
    "        if isExist:\n",
    "            shutil.rmtree(path)\n",
    "        os.mkdir(path)\n",
    "\n",
    "        X_train, X_test = X[train_index], X[test_index]\n",
    "        y_train, y_test = y[train_index], y[test_index]\n",
    "\n",
    "        X_train = pd.DataFrame(X_train, columns = features_name)\n",
    "        X_test = pd.DataFrame(X_test, columns = features_name)\n",
    "        y_train = pd.DataFrame(y_train, columns = class_name)\n",
    "        y_test = pd.DataFrame(y_test, columns = class_name)\n",
    "\n",
    "        train_set = pd.concat([X_train, y_train], axis=1)\n",
    "        train_set = train_set.reset_index()  # make sure indexes pair with number of rows\n",
    "\n",
    "        test_set = pd.concat([X_test, y_test], axis=1)\n",
    "        test_set = test_set.reset_index()  # make sure indexes pair with number of rows\n",
    "\n",
    "        train_set.to_csv(path+'/train_set.csv', index=False)\n",
    "        test_set.to_csv(path+'/test_set.csv', index=False)\n",
    "\n",
    "        counter += 1\n"
   ],
   "metadata": {
    "collapsed": false,
    "pycharm": {
     "name": "#%%\n"
    }
   }
  },
  {
   "cell_type": "code",
   "execution_count": 22,
   "outputs": [
    {
     "name": "stdout",
     "output_type": "stream",
     "text": [
      "7 7391\n",
      "57 66519\n"
     ]
    }
   ],
   "source": [
    "dataset1 = pd.read_csv('datasets/stratifiedKfold/ComplexClass/1/test_set.csv')\n",
    "\n",
    "complex = dataset1[dataset1['ComplexClass'] == 1]\n",
    "print(len(complex), len(dataset1))\n",
    "\n",
    "\n",
    "dataset2 = pd.read_csv('datasets/stratifiedKfold/ComplexClass/1/train_set.csv')\n",
    "\n",
    "complex2 = dataset2[dataset2['ComplexClass'] == 1]\n",
    "print(len(complex2), len(dataset2))"
   ],
   "metadata": {
    "collapsed": false,
    "pycharm": {
     "name": "#%%\n"
    }
   }
  },
  {
   "cell_type": "markdown",
   "source": [
    "### Oversampling"
   ],
   "metadata": {
    "collapsed": false,
    "pycharm": {
     "name": "#%% md\n"
    }
   }
  },
  {
   "cell_type": "code",
   "execution_count": 3,
   "outputs": [
    {
     "name": "stdout",
     "output_type": "stream",
     "text": [
      "Features_name: ['M_CBO', 'M_CYCLO', 'M_DIT', 'M_ELOC', 'M_FanIn', 'M_FanIn_1', 'M_LCOM', 'M_LOC', 'M_LOCNAMM', 'M_NOA', 'M_NOC', 'M_NOM', 'M_NOMNAMM', 'M_NOPA', 'M_PMMM', 'M_PRB', 'M_WLOCNAMM', 'M_WMC', 'M_WMCNAMM', 'M_TextualCohesion', 'M_TextualEntropy']\n",
      "Class_name: ['ComplexClass']\n",
      "Size resampled dataset:  147692\n",
      "Count smells:  73846\n",
      "Count not smells:  73846\n",
      "\n",
      "==========================================\n",
      "\n",
      "Features_name: ['M_CBO', 'M_CYCLO', 'M_DIT', 'M_ELOC', 'M_FanIn', 'M_FanIn_1', 'M_LCOM', 'M_LOC', 'M_LOCNAMM', 'M_NOA', 'M_NOC', 'M_NOM', 'M_NOMNAMM', 'M_NOPA', 'M_PMMM', 'M_PRB', 'M_WLOCNAMM', 'M_WMC', 'M_WMCNAMM', 'M_TextualCohesion', 'M_TextualEntropy']\n",
      "Class_name: ['LargeClass']\n",
      "Size resampled dataset:  147646\n",
      "Count smells:  73823\n",
      "Count not smells:  73823\n",
      "\n",
      "==========================================\n",
      "\n",
      "Features_name: ['M_CBO', 'M_CYCLO', 'M_DIT', 'M_ELOC', 'M_FanIn', 'M_FanIn_1', 'M_LCOM', 'M_LOC', 'M_LOCNAMM', 'M_NOA', 'M_NOC', 'M_NOM', 'M_NOMNAMM', 'M_NOPA', 'M_PMMM', 'M_PRB', 'M_WLOCNAMM', 'M_WMC', 'M_WMCNAMM', 'M_TextualCohesion', 'M_TextualEntropy']\n",
      "Class_name: ['LazyClass']\n",
      "Size resampled dataset:  147766\n",
      "Count smells:  73883\n",
      "Count not smells:  73883\n",
      "\n",
      "==========================================\n",
      "\n",
      "Features_name: ['M_CBO', 'M_CYCLO', 'M_DIT', 'M_ELOC', 'M_FanIn', 'M_FanIn_1', 'M_LCOM', 'M_LOC', 'M_LOCNAMM', 'M_NOA', 'M_NOC', 'M_NOM', 'M_NOMNAMM', 'M_NOPA', 'M_PMMM', 'M_PRB', 'M_WLOCNAMM', 'M_WMC', 'M_WMCNAMM', 'M_TextualCohesion', 'M_TextualEntropy']\n",
      "Class_name: ['RefusedBequest']\n",
      "Size resampled dataset:  147510\n",
      "Count smells:  73755\n",
      "Count not smells:  73755\n",
      "\n",
      "==========================================\n",
      "\n",
      "Features_name: ['M_CBO', 'M_CYCLO', 'M_DIT', 'M_ELOC', 'M_FanIn', 'M_FanIn_1', 'M_LCOM', 'M_LOC', 'M_LOCNAMM', 'M_NOA', 'M_NOC', 'M_NOM', 'M_NOMNAMM', 'M_NOPA', 'M_PMMM', 'M_PRB', 'M_WLOCNAMM', 'M_WMC', 'M_WMCNAMM', 'M_TextualCohesion', 'M_TextualEntropy']\n",
      "Class_name: ['SpaghettiCode']\n",
      "Size resampled dataset:  147022\n",
      "Count smells:  73511\n",
      "Count not smells:  73511\n",
      "\n",
      "==========================================\n",
      "\n"
     ]
    }
   ],
   "source": [
    "import os\n",
    "import shutil\n",
    "from imblearn.over_sampling import SMOTE\n",
    "import pandas as pd\n",
    "\n",
    "path = 'datasets/oversampling'\n",
    "\n",
    "# Check whether the specified path exists or not\n",
    "isExist = os.path.exists(path)\n",
    "if isExist:\n",
    "    shutil.rmtree(path)\n",
    "\n",
    "os.mkdir(path)\n",
    "\n",
    "\n",
    "imputed_dataset = pd.read_csv(\"datasets/imputed_dataset.csv\")\n",
    "\n",
    "for i in range(0,5):\n",
    "\n",
    "    X = imputed_dataset.iloc[:, 2:-5]\n",
    "    features_name = X.columns.values.tolist()\n",
    "    if i != 4:\n",
    "        y = imputed_dataset.iloc[:, -5+i:-4+i]\n",
    "    else:\n",
    "        y = imputed_dataset.iloc[:, -1:]\n",
    "    class_name = y.columns.values.tolist()\n",
    "\n",
    "    print(\"Features_name:\", features_name )\n",
    "    print(\"Class_name:\", class_name )\n",
    "\n",
    "    X_resampled, y_resampled = SMOTE().fit_resample(X.to_numpy(), y.to_numpy())\n",
    "    print(\"Size resampled dataset: \", len(X_resampled))\n",
    "\n",
    "    X_res = pd.DataFrame(X_resampled, columns=features_name)\n",
    "    y_res = pd.DataFrame(y_resampled, columns=class_name)\n",
    "\n",
    "    result = pd.concat([X_res, y_res], axis=1)\n",
    "    result = result.reset_index()  # make sure indexes pair with number of rows\n",
    "\n",
    "\n",
    "    smells = result[result[class_name[0]] == 1]\n",
    "    not_smells = result[result[class_name[0]] == 0]\n",
    "    print(\"Count smells: \", len(smells))\n",
    "    print(\"Count not smells: \", len(not_smells))\n",
    "\n",
    "\n",
    "    print(\"\\n==========================================\\n\")\n",
    "\n",
    "    result = result.iloc[:, 1:]\n",
    "    result.to_csv('datasets/oversampling/oversampling_'+class_name[0]+'.csv', index=False)"
   ],
   "metadata": {
    "collapsed": false,
    "pycharm": {
     "name": "#%%\n"
    }
   }
  },
  {
   "cell_type": "code",
   "execution_count": 3,
   "outputs": [],
   "source": [],
   "metadata": {
    "collapsed": false,
    "pycharm": {
     "name": "#%%\n"
    }
   }
  }
 ],
 "metadata": {
  "kernelspec": {
   "display_name": "Python 3",
   "language": "python",
   "name": "python3"
  },
  "language_info": {
   "codemirror_mode": {
    "name": "ipython",
    "version": 2
   },
   "file_extension": ".py",
   "mimetype": "text/x-python",
   "name": "python",
   "nbconvert_exporter": "python",
   "pygments_lexer": "ipython2",
   "version": "2.7.6"
  }
 },
 "nbformat": 4,
 "nbformat_minor": 0
}