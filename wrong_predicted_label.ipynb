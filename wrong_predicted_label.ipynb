{
 "cells": [
  {
   "cell_type": "markdown",
   "metadata": {
    "collapsed": true,
    "pycharm": {
     "name": "#%% md\n"
    }
   },
   "source": [
    "# Samples with wrong predicted label"
   ]
  },
  {
   "cell_type": "code",
   "execution_count": 1,
   "outputs": [
    {
     "name": "stdout",
     "output_type": "stream",
     "text": [
      "\n",
      "===================== LazyClass =====================\n",
      "\n",
      "Size of test set: 59107\n",
      "Samples with wrong prediction: 359\n",
      "- False positive: 356\n",
      "- False negative: 3\n",
      "True positive: 29583\n",
      "True negative: 29165\n",
      "\n",
      "===================== SpaghettiCode =====================\n",
      "\n",
      "Size of test set: 58809\n",
      "Samples with wrong prediction: 1406\n",
      "- False positive: 1203\n",
      "- False negative: 203\n",
      "True positive: 29202\n",
      "True negative: 28201\n",
      "\n",
      "===================== RefusedBequest =====================\n",
      "\n",
      "Size of test set: 59004\n",
      "Samples with wrong prediction: 808\n",
      "- False positive: 808\n",
      "- False negative: 0\n",
      "True positive: 29499\n",
      "True negative: 28697\n",
      "\n",
      "===================== LargeClass =====================\n",
      "\n",
      "Size of test set: 59059\n",
      "Samples with wrong prediction: 71\n",
      "- False positive: 71\n",
      "- False negative: 0\n",
      "True positive: 29532\n",
      "True negative: 29456\n",
      "\n",
      "===================== ComplexClass =====================\n",
      "\n",
      "Size of test set: 59077\n",
      "Samples with wrong prediction: 178\n",
      "- False positive: 177\n",
      "- False negative: 1\n",
      "True positive: 29555\n",
      "True negative: 29344\n"
     ]
    }
   ],
   "source": [
    "import shutil\n",
    "from matplotlib import pyplot as plt\n",
    "import os\n",
    "import pandas as pd\n",
    "import seaborn as sns\n",
    "\n",
    "\n",
    "path = 'difference_true_false'\n",
    "\n",
    "# Check whether the specified path exists or not\n",
    "isExist = os.path.exists(path)\n",
    "if isExist:\n",
    "    shutil.rmtree(path)\n",
    "\n",
    "os.mkdir(path)\n",
    "\n",
    "#######################\n",
    "\n",
    "os.chdir('datasets/training_phase')\n",
    "\n",
    "for folder in os.listdir():\n",
    "    y_pred = pd.read_csv(folder+'/pred_set_'+folder+'.csv')\n",
    "\n",
    "    test_set = pd.read_csv(folder+'/test_set_'+folder+'.csv')\n",
    "    #real value\n",
    "    y_test = test_set.iloc[:, -1:]\n",
    "\n",
    "    #compare real value with predicted value\n",
    "    final = y_test.compare(y_pred, keep_shape=True, keep_equal=True)\n",
    "    name_columns = final.columns.values.tolist()\n",
    "\n",
    "    print(\"\\n===================== \"+folder+\" =====================\\n\")\n",
    "\n",
    "    print(\"Size of test set:\", len(test_set))\n",
    "\n",
    "    #compute samples with wrong prediction\n",
    "    wrong_prediction = final[final[name_columns[0]] != final[name_columns[1]]]\n",
    "    print(\"Samples with wrong prediction:\", len(wrong_prediction))\n",
    "\n",
    "    #compute false positive\n",
    "    false_positive = wrong_prediction[wrong_prediction[name_columns[0]] == 0]\n",
    "    print(\"- False positive:\", len(false_positive))\n",
    "\n",
    "    #compute false negative\n",
    "    false_negative = wrong_prediction[wrong_prediction[name_columns[0]] == 1]\n",
    "    print(\"- False negative:\", len(false_negative))\n",
    "\n",
    "    true_positive = final[final[name_columns[0]] == 1 ]\n",
    "    true_positive = true_positive[true_positive[name_columns[0]] == true_positive[name_columns[1]]]\n",
    "    print(\"True positive:\", len(true_positive))\n",
    "\n",
    "    true_negative = final[final[name_columns[0]] == 0 ]\n",
    "    true_negative = true_negative[true_negative[name_columns[0]] == true_negative[name_columns[1]]]\n",
    "    print(\"True negative:\", len(true_negative))\n",
    "\n",
    "\n",
    "    #create directory------------------------------\n",
    "    path = '../../difference_true_false/'+folder\n",
    "\n",
    "    # Check whether the specified path exists or not\n",
    "    isExist = os.path.exists(path)\n",
    "    if isExist:\n",
    "        shutil.rmtree(path)\n",
    "\n",
    "    os.mkdir(path)\n",
    "\n",
    "    #compare false positive with true positive---------------\n",
    "    false_positive = pd.concat([test_set, false_positive], axis=1, join=\"inner\")\n",
    "    false_positive = false_positive.iloc[:,1:-3]\n",
    "    true_positive = pd.concat([test_set, true_positive], axis=1, join=\"inner\")\n",
    "    true_positive = true_positive.iloc[:,1:-3]\n",
    "\n",
    "    true_positive = true_positive.melt(var_name='Feature',value_name='Value')\n",
    "    false_positive = false_positive.melt(var_name='Feature',value_name='Value')\n",
    "\n",
    "    # horizontal boxplot features of false positive\n",
    "    if len(false_positive)>0:\n",
    "        sns.set(rc={'figure.figsize':(20.7,11.27)})\n",
    "        sns_plot = sns.boxplot(y = \"Feature\",\n",
    "                    x = \"Value\",\n",
    "                   data = false_positive)\n",
    "        plt.tight_layout()\n",
    "        fig = sns_plot.get_figure()\n",
    "        plt.close(fig)\n",
    "        fig.savefig(path+\"/false_positive_\"+folder+\".png\")\n",
    "\n",
    "    # horizontal boxplot features of true positive\n",
    "    if len(true_positive)>0:\n",
    "        sns.set(rc={'figure.figsize':(20.7,11.27)})\n",
    "        sns_plot = sns.boxplot(y = \"Feature\",\n",
    "                    x = \"Value\",\n",
    "                   data = true_positive)\n",
    "        plt.tight_layout()\n",
    "        fig = sns_plot.get_figure()\n",
    "        plt.close(fig)\n",
    "        fig.savefig(path+\"/true_positive_\"+folder+\".png\")\n",
    "\n",
    "\n",
    "    #compare true negative with false negative---------------\n",
    "    true_negative = pd.concat([test_set, true_negative], axis=1, join=\"inner\")\n",
    "    true_negative = true_negative.iloc[:,1:-3]\n",
    "    false_negative = pd.concat([test_set, false_negative], axis=1, join=\"inner\")\n",
    "    false_negative = false_negative.iloc[:,1:-3]\n",
    "\n",
    "    true_negative = true_negative.melt(var_name='Feature',value_name='Value')\n",
    "    false_negative = false_negative.melt(var_name='Feature',value_name='Value')\n",
    "\n",
    "    # horizontal boxplot features of false negative\n",
    "    if len(false_negative)>0:\n",
    "        sns.set(rc={'figure.figsize':(20.7,11.27)})\n",
    "        sns_plot = sns.boxplot(y = \"Feature\",\n",
    "                    x = \"Value\",\n",
    "                   data = false_negative)\n",
    "        plt.tight_layout()\n",
    "        fig = sns_plot.get_figure()\n",
    "        plt.close(fig)\n",
    "        fig.savefig(path+\"/false_negative_\"+folder+\".png\")\n",
    "\n",
    "    # horizontal boxplot features of true negative\n",
    "    if len(true_negative)>0:\n",
    "        sns.set(rc={'figure.figsize':(20.7,11.27)})\n",
    "        sns_plot = sns.boxplot(y = \"Feature\",\n",
    "                    x = \"Value\",\n",
    "                   data = true_negative)\n",
    "        plt.tight_layout()\n",
    "        fig = sns_plot.get_figure()\n",
    "        plt.close(fig)\n",
    "        fig.savefig(path+\"/true_negative_\"+folder+\".png\")\n",
    "\n",
    "os.chdir('../..')"
   ],
   "metadata": {
    "collapsed": false,
    "pycharm": {
     "name": "#%%\n"
    }
   }
  },
  {
   "cell_type": "code",
   "execution_count": null,
   "outputs": [],
   "source": [],
   "metadata": {
    "collapsed": false,
    "pycharm": {
     "name": "#%%\n"
    }
   }
  },
  {
   "cell_type": "code",
   "execution_count": null,
   "outputs": [],
   "source": [],
   "metadata": {
    "collapsed": false,
    "pycharm": {
     "name": "#%%\n"
    }
   }
  },
  {
   "cell_type": "code",
   "execution_count": null,
   "outputs": [],
   "source": [],
   "metadata": {
    "collapsed": false,
    "pycharm": {
     "name": "#%%\n"
    }
   }
  },
  {
   "cell_type": "code",
   "execution_count": null,
   "outputs": [],
   "source": [],
   "metadata": {
    "collapsed": false,
    "pycharm": {
     "name": "#%%\n"
    }
   }
  },
  {
   "cell_type": "code",
   "execution_count": 93,
   "outputs": [],
   "source": [],
   "metadata": {
    "collapsed": false,
    "pycharm": {
     "name": "#%%\n"
    }
   }
  },
  {
   "cell_type": "code",
   "execution_count": null,
   "outputs": [],
   "source": [],
   "metadata": {
    "collapsed": false,
    "pycharm": {
     "name": "#%%\n"
    }
   }
  }
 ],
 "metadata": {
  "kernelspec": {
   "display_name": "Python 3",
   "language": "python",
   "name": "python3"
  },
  "language_info": {
   "codemirror_mode": {
    "name": "ipython",
    "version": 2
   },
   "file_extension": ".py",
   "mimetype": "text/x-python",
   "name": "python",
   "nbconvert_exporter": "python",
   "pygments_lexer": "ipython2",
   "version": "2.7.6"
  }
 },
 "nbformat": 4,
 "nbformat_minor": 0
}