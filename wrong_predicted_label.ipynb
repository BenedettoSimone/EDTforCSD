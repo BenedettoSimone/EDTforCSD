{
 "cells": [
  {
   "cell_type": "markdown",
   "metadata": {
    "collapsed": true,
    "pycharm": {
     "name": "#%% md\n"
    }
   },
   "source": [
    "# Samples with wrong predicted label"
   ]
  },
  {
   "cell_type": "code",
   "execution_count": 6,
   "outputs": [
    {
     "name": "stdout",
     "output_type": "stream",
     "text": [
      "\n",
      "===================== LazyClass =====================\n",
      "\n",
      "Size of test set: 73910\n",
      "Samples with wrong prediction: 57\n",
      "- False positive: 55\n",
      "- False negative: 2\n",
      "True positive: 25\n",
      "True negative: 73828\n",
      "\n",
      "===================== SpaghettiCode =====================\n",
      "\n",
      "Size of test set: 73910\n",
      "Samples with wrong prediction: 560\n",
      "- False positive: 497\n",
      "- False negative: 63\n",
      "True positive: 336\n",
      "True negative: 73014\n",
      "\n",
      "===================== RefusedBequest =====================\n",
      "\n",
      "Size of test set: 73910\n",
      "Samples with wrong prediction: 193\n",
      "- False positive: 178\n",
      "- False negative: 15\n",
      "True positive: 140\n",
      "True negative: 73577\n",
      "\n",
      "===================== LargeClass =====================\n",
      "\n",
      "Size of test set: 73910\n",
      "Samples with wrong prediction: 136\n",
      "- False positive: 119\n",
      "- False negative: 17\n",
      "True positive: 70\n",
      "True negative: 73704\n",
      "\n",
      "===================== ComplexClass =====================\n",
      "\n",
      "Size of test set: 73910\n",
      "Samples with wrong prediction: 118\n",
      "- False positive: 106\n",
      "- False negative: 12\n",
      "True positive: 52\n",
      "True negative: 73740\n"
     ]
    }
   ],
   "source": [
    "import shutil\n",
    "from matplotlib import pyplot as plt\n",
    "import os\n",
    "import pandas as pd\n",
    "import seaborn as sns\n",
    "\n",
    "os.chdir('datasets/stratifiedKfold')\n",
    "\n",
    "#folder smell\n",
    "for i in os.listdir():\n",
    "    if '.DS_Store' not in i:\n",
    "        os.chdir(i)\n",
    "\n",
    "        sum_test_size = 0\n",
    "        sum_wrong_prediction = 0\n",
    "        sum_false_positive = 0\n",
    "        sum_false_negative = 0\n",
    "        sum_true_positive = 0\n",
    "        sum_true_negative = 0\n",
    "\n",
    "        for fold in os.listdir():\n",
    "            if '.DS_Store' not in fold:\n",
    "                os.chdir(fold)\n",
    "\n",
    "                y_pred = pd.read_csv(\"pred_set.csv\")\n",
    "                test_set = pd.read_csv(\"test_set.csv\")\n",
    "\n",
    "                #real value\n",
    "                y_test = test_set.iloc[:, -1:]\n",
    "\n",
    "                #compare real value with predicted value\n",
    "                final = y_test.compare(y_pred, keep_shape=True, keep_equal=True)\n",
    "                name_columns = final.columns.values.tolist()\n",
    "\n",
    "                sum_test_size += len(test_set)\n",
    "\n",
    "                #compute samples with wrong prediction\n",
    "                wrong_prediction = final[final[name_columns[0]] != final[name_columns[1]]]\n",
    "                sum_wrong_prediction += len(wrong_prediction)\n",
    "\n",
    "                #compute false positive\n",
    "                false_positive = wrong_prediction[wrong_prediction[name_columns[0]] == 0]\n",
    "                sum_false_positive += len(false_positive)\n",
    "\n",
    "                #compute false negative\n",
    "                false_negative = wrong_prediction[wrong_prediction[name_columns[0]] == 1]\n",
    "                sum_false_negative += len(false_negative)\n",
    "\n",
    "                #compute true positive\n",
    "                true_positive = final[final[name_columns[0]] == 1 ]\n",
    "                true_positive = true_positive[true_positive[name_columns[0]] == true_positive[name_columns[1]]]\n",
    "                sum_true_positive += len(true_positive)\n",
    "\n",
    "                #compute true negative\n",
    "                true_negative = final[final[name_columns[0]] == 0 ]\n",
    "                true_negative = true_negative[true_negative[name_columns[0]] == true_negative[name_columns[1]]]\n",
    "                sum_true_negative += len(true_negative)\n",
    "\n",
    "                os.chdir('..')\n",
    "        os.chdir('..')\n",
    "\n",
    "        #report for each smell\n",
    "        print(\"\\n===================== \"+ i +\" =====================\\n\")\n",
    "        print(\"Size of test set:\", sum_test_size)\n",
    "        print(\"Samples with wrong prediction:\", sum_wrong_prediction)\n",
    "        print(\"- False positive:\", sum_false_positive)\n",
    "        print(\"- False negative:\", sum_false_negative)\n",
    "        print(\"True positive:\", sum_true_positive)\n",
    "        print(\"True negative:\", sum_true_negative)\n",
    "\n",
    "os.chdir('../..')"
   ],
   "metadata": {
    "collapsed": false,
    "pycharm": {
     "name": "#%%\n"
    }
   }
  }
 ],
 "metadata": {
  "kernelspec": {
   "display_name": "Python 3",
   "language": "python",
   "name": "python3"
  },
  "language_info": {
   "codemirror_mode": {
    "name": "ipython",
    "version": 2
   },
   "file_extension": ".py",
   "mimetype": "text/x-python",
   "name": "python",
   "nbconvert_exporter": "python",
   "pygments_lexer": "ipython2",
   "version": "2.7.6"
  }
 },
 "nbformat": 4,
 "nbformat_minor": 0
}